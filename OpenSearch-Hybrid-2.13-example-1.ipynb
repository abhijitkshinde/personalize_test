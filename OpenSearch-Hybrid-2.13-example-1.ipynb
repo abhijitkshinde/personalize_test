{
 "cells": [
  {
   "cell_type": "code",
   "execution_count": 17,
   "id": "5052d157-1775-4526-94f7-f1c46b28b0d7",
   "metadata": {},
   "outputs": [],
   "source": [
    "from opensearchpy import OpenSearch, RequestsHttpConnection\n",
    "import json\n",
    "from langchain_aws import BedrockEmbeddings, ChatBedrock\n",
    "import boto3"
   ]
  },
  {
   "cell_type": "code",
   "execution_count": 6,
   "id": "852318a8-96cd-4465-845c-bf9bb5d0ed1d",
   "metadata": {},
   "outputs": [],
   "source": [
    "# OpenSearch endpoint config\n",
    "HOST = \"search-my-personalized-search-6gaepnh6huyymltmddtdtm4ihi.us-east-1.es.amazonaws.com\"\n",
    "PORT = 443\n",
    "INDEX_NAME = \"product-index\"\n",
    "# Auth if FGAC is enabled\n",
    "auth = (\"admin-user\", \"\")"
   ]
  },
  {
   "cell_type": "code",
   "execution_count": 7,
   "id": "2280e621-2f63-4663-946a-c8e1ff372874",
   "metadata": {},
   "outputs": [],
   "source": [
    "# OpenSearch client setup\n",
    "client = OpenSearch(\n",
    "    hosts=[{\"host\": HOST, \"port\": PORT}],\n",
    "    http_auth=auth,\n",
    "    use_ssl=True,\n",
    "    verify_certs=True,\n",
    "    connection_class=RequestsHttpConnection\n",
    ")"
   ]
  },
  {
   "cell_type": "code",
   "execution_count": 8,
   "id": "5f9e60a4-f07b-46d3-a4c2-8f963f6aacfa",
   "metadata": {},
   "outputs": [
    {
     "name": "stdout",
     "output_type": "stream",
     "text": [
      "Created index: product-index\n"
     ]
    }
   ],
   "source": [
    "# Create index if it doesn't exist\n",
    "if not client.indices.exists(index=INDEX_NAME):\n",
    "    client.indices.create(index=INDEX_NAME)\n",
    "    print(f\"Created index: {INDEX_NAME}\")"
   ]
  },
  {
   "cell_type": "code",
   "execution_count": 9,
   "id": "ce8eb359-bdc6-4f28-9b62-de378d746564",
   "metadata": {},
   "outputs": [
    {
     "data": {
      "text/plain": [
       "[{'item_id': 'item_1',\n",
       "  'title': 'Wireless Noise Cancelling Headphones',\n",
       "  'category': 'Electronics',\n",
       "  'price': 199.99},\n",
       " {'item_id': 'item_2',\n",
       "  'title': 'Bluetooth Speaker',\n",
       "  'category': 'Electronics',\n",
       "  'price': 59.99},\n",
       " {'item_id': 'item_3',\n",
       "  'title': 'Fitness Smartwatch',\n",
       "  'category': 'Wearables',\n",
       "  'price': 129.99},\n",
       " {'item_id': 'item_4',\n",
       "  'title': 'Electric Toothbrush',\n",
       "  'category': 'Personal Care',\n",
       "  'price': 39.99},\n",
       " {'item_id': 'item_5',\n",
       "  'title': 'Running Shoes - Men',\n",
       "  'category': 'Footwear',\n",
       "  'price': 89.99},\n",
       " {'item_id': 'item_6',\n",
       "  'title': 'Gaming Mouse',\n",
       "  'category': 'Electronics',\n",
       "  'price': 49.99},\n",
       " {'item_id': 'item_7',\n",
       "  'title': 'E-book Reader',\n",
       "  'category': 'Books',\n",
       "  'price': 99.99},\n",
       " {'item_id': 'item_8',\n",
       "  'title': 'Laptop Stand',\n",
       "  'category': 'Office',\n",
       "  'price': 25.99},\n",
       " {'item_id': 'item_9',\n",
       "  'title': '4K Action Camera',\n",
       "  'category': 'Electronics',\n",
       "  'price': 149.99},\n",
       " {'item_id': 'item_10',\n",
       "  'title': 'Wireless Charger',\n",
       "  'category': 'Mobile Accessories',\n",
       "  'price': 19.99}]"
      ]
     },
     "execution_count": 9,
     "metadata": {},
     "output_type": "execute_result"
    }
   ],
   "source": [
    "# Load sample data\n",
    "with open(\"/Users/aktiwary/new-workspace/opensearch-test/sample_products.json\", \"r\") as f:\n",
    "    items = json.load(f)\n",
    "items"
   ]
  },
  {
   "cell_type": "code",
   "execution_count": 10,
   "id": "f1b06014-c413-4edf-bcc0-e0a463b9cb04",
   "metadata": {},
   "outputs": [
    {
     "name": "stdout",
     "output_type": "stream",
     "text": [
      "Ingested 10 items into index 'product-index'.\n"
     ]
    }
   ],
   "source": [
    "# Ingest each item\n",
    "for item in items:\n",
    "    client.index(index=INDEX_NAME, id=item[\"item_id\"], body=item)\n",
    "print(f\"Ingested {len(items)} items into index '{INDEX_NAME}'.\")"
   ]
  },
  {
   "cell_type": "code",
   "execution_count": 12,
   "id": "fa8200ed-c7d9-4a39-b65b-48bf592c50fd",
   "metadata": {},
   "outputs": [],
   "source": [
    "query = {\n",
    "  \"query\": {\n",
    "    \"match\": {\n",
    "      \"title\": \"wireless headphones\"\n",
    "    }\n",
    "  }\n",
    "}"
   ]
  },
  {
   "cell_type": "code",
   "execution_count": 13,
   "id": "a7f5304b-cc2c-457e-8f23-3b352780ba80",
   "metadata": {},
   "outputs": [],
   "source": [
    "response = client.search(\n",
    "    index=\"product-index\",\n",
    "    body=query\n",
    ")"
   ]
  },
  {
   "cell_type": "code",
   "execution_count": 14,
   "id": "b76003f2-d387-4317-98ce-600c0a09d53a",
   "metadata": {},
   "outputs": [
    {
     "data": {
      "text/plain": [
       "{'took': 833,\n",
       " 'timed_out': False,\n",
       " '_shards': {'total': 5, 'successful': 5, 'skipped': 0, 'failed': 0},\n",
       " 'hits': {'total': {'value': 2, 'relation': 'eq'},\n",
       "  'max_score': 1.4877305,\n",
       "  'hits': [{'_index': 'product-index',\n",
       "    '_id': 'item_10',\n",
       "    '_score': 1.4877305,\n",
       "    '_source': {'item_id': 'item_10',\n",
       "     'title': 'Wireless Charger',\n",
       "     'category': 'Mobile Accessories',\n",
       "     'price': 19.99}},\n",
       "   {'_index': 'product-index',\n",
       "    '_id': 'item_1',\n",
       "    '_score': 0.5753642,\n",
       "    '_source': {'item_id': 'item_1',\n",
       "     'title': 'Wireless Noise Cancelling Headphones',\n",
       "     'category': 'Electronics',\n",
       "     'price': 199.99}}]}}"
      ]
     },
     "execution_count": 14,
     "metadata": {},
     "output_type": "execute_result"
    }
   ],
   "source": [
    "response"
   ]
  },
  {
   "cell_type": "code",
   "execution_count": 15,
   "id": "023a0406-a4a2-4294-8d98-a7e50697308e",
   "metadata": {},
   "outputs": [
    {
     "name": "stdout",
     "output_type": "stream",
     "text": [
      "Wireless Charger - Score: 1.4877305\n",
      "Wireless Noise Cancelling Headphones - Score: 0.5753642\n"
     ]
    }
   ],
   "source": [
    "for hit in response[\"hits\"][\"hits\"]:\n",
    "    print(f\"{hit['_source']['title']} - Score: {hit['_score']}\")"
   ]
  },
  {
   "cell_type": "code",
   "execution_count": 18,
   "id": "b252bb1d-e983-40ca-a6e0-8beb79d0928b",
   "metadata": {},
   "outputs": [],
   "source": [
    "# Initialize Bedrock client\n",
    "bedrock_client = boto3.client(\n",
    "    service_name=\"bedrock-runtime\",\n",
    "    region_name=\"us-east-1\",\n",
    "    aws_access_key_id=\"\",\n",
    "    aws_secret_access_key=\"\"\n",
    ")\n",
    "\n",
    "# Initialize models\n",
    "embed_model = BedrockEmbeddings(\n",
    "    client=bedrock_client,\n",
    "    model_id=\"amazon.titan-embed-text-v1\"\n",
    ")"
   ]
  },
  {
   "cell_type": "code",
   "execution_count": 20,
   "id": "1a73d9d8-1735-4beb-803e-99091034fdc6",
   "metadata": {},
   "outputs": [
    {
     "name": "stdout",
     "output_type": "stream",
     "text": [
      "Embedding dimension: 1536\n"
     ]
    }
   ],
   "source": [
    "sample_text = \"This is a sample text to embed.\"\n",
    "embedding = embed_model.embed_query(sample_text)\n",
    "\n",
    "print(f\"Embedding dimension: {len(embedding)}\")"
   ]
  },
  {
   "cell_type": "code",
   "execution_count": 19,
   "id": "ed4aa393-c5d5-424c-a276-fffcaf34552d",
   "metadata": {},
   "outputs": [],
   "source": [
    "#embed_model.embed_query\n",
    "\n",
    "def generate_embedding(text):\n",
    "    return embed_model.embed_query(text) "
   ]
  },
  {
   "cell_type": "code",
   "execution_count": 27,
   "id": "10f6f957-516b-4716-8920-6ad43687a375",
   "metadata": {},
   "outputs": [],
   "source": [
    "index_name = \"hybrid-product-index\"\n",
    "\n",
    "index_body = {\n",
    "  \"settings\": {\n",
    "    \"index\": {\n",
    "      \"knn\": True\n",
    "    }\n",
    "  },\n",
    "  \"mappings\": {\n",
    "    \"properties\": {\n",
    "      \"item_id\": { \"type\": \"keyword\" },\n",
    "      \"title\": { \"type\": \"text\" },\n",
    "      \"category\": { \"type\": \"keyword\" },\n",
    "      \"price\": { \"type\": \"float\" },\n",
    "      \"embedding\": {\n",
    "        \"type\": \"knn_vector\",    \n",
    "        \"dimension\": 1536,        \n",
    "        \"method\": {\n",
    "          \"name\": \"hnsw\",\n",
    "          \"engine\": \"nmslib\",\n",
    "          \"space_type\": \"cosinesimil\"\n",
    "        }\n",
    "      }\n",
    "    }\n",
    "  }\n",
    "}"
   ]
  },
  {
   "cell_type": "code",
   "execution_count": 28,
   "id": "18efa4cf-ce56-419b-a404-d1b9af18978c",
   "metadata": {},
   "outputs": [
    {
     "name": "stdout",
     "output_type": "stream",
     "text": [
      "Created hybrid index: hybrid-product-index\n"
     ]
    }
   ],
   "source": [
    "# Create the index\n",
    "if not client.indices.exists(index=index_name):\n",
    "    client.indices.create(index=index_name, body=index_body)\n",
    "    print(f\"Created hybrid index: {index_name}\")"
   ]
  },
  {
   "cell_type": "code",
   "execution_count": 29,
   "id": "a86c90e8-c034-4bdd-88b3-38930929bed7",
   "metadata": {},
   "outputs": [
    {
     "data": {
      "text/plain": [
       "[{'item_id': 'item_1',\n",
       "  'title': 'Wireless Noise Cancelling Headphones',\n",
       "  'category': 'Electronics',\n",
       "  'price': 199.99},\n",
       " {'item_id': 'item_2',\n",
       "  'title': 'Bluetooth Speaker',\n",
       "  'category': 'Electronics',\n",
       "  'price': 59.99},\n",
       " {'item_id': 'item_3',\n",
       "  'title': 'Fitness Smartwatch',\n",
       "  'category': 'Wearables',\n",
       "  'price': 129.99},\n",
       " {'item_id': 'item_4',\n",
       "  'title': 'Electric Toothbrush',\n",
       "  'category': 'Personal Care',\n",
       "  'price': 39.99},\n",
       " {'item_id': 'item_5',\n",
       "  'title': 'Running Shoes - Men',\n",
       "  'category': 'Footwear',\n",
       "  'price': 89.99},\n",
       " {'item_id': 'item_6',\n",
       "  'title': 'Gaming Mouse',\n",
       "  'category': 'Electronics',\n",
       "  'price': 49.99},\n",
       " {'item_id': 'item_7',\n",
       "  'title': 'E-book Reader',\n",
       "  'category': 'Books',\n",
       "  'price': 99.99},\n",
       " {'item_id': 'item_8',\n",
       "  'title': 'Laptop Stand',\n",
       "  'category': 'Office',\n",
       "  'price': 25.99},\n",
       " {'item_id': 'item_9',\n",
       "  'title': '4K Action Camera',\n",
       "  'category': 'Electronics',\n",
       "  'price': 149.99},\n",
       " {'item_id': 'item_10',\n",
       "  'title': 'Wireless Charger',\n",
       "  'category': 'Mobile Accessories',\n",
       "  'price': 19.99}]"
      ]
     },
     "execution_count": 29,
     "metadata": {},
     "output_type": "execute_result"
    }
   ],
   "source": [
    "items"
   ]
  },
  {
   "cell_type": "code",
   "execution_count": 31,
   "id": "b557c0bf-e65a-4122-adcb-f483101facbc",
   "metadata": {},
   "outputs": [
    {
     "name": "stdout",
     "output_type": "stream",
     "text": [
      "Ingested 10 items into hybrid index.\n"
     ]
    }
   ],
   "source": [
    "# Ingest each item with embedding\n",
    "for item in items:\n",
    "    title = item[\"title\"]\n",
    "    embedding = embed_model.embed_query(title)\n",
    "    doc = {\n",
    "        \"item_id\": item[\"item_id\"],\n",
    "        \"title\": title,\n",
    "        \"category\": item[\"category\"],\n",
    "        \"price\": item[\"price\"],\n",
    "        \"embedding\": embedding\n",
    "    }\n",
    "    client.index(index=index_name, id=item[\"item_id\"], body=doc)\n",
    "print(f\"Ingested {len(items)} items into hybrid index.\")"
   ]
  },
  {
   "cell_type": "code",
   "execution_count": 32,
   "id": "bc20d7e8-533b-49aa-afde-1c6ce8a834c6",
   "metadata": {},
   "outputs": [],
   "source": [
    "query_text = \"wireless headphones\"\n",
    "q_embedding = embed_model.embed_query(query_text)  # returns 384-d vector\n",
    "query_body = {\n",
    "    \"size\": 5,\n",
    "    \"query\": {\n",
    "        \"bool\": {\n",
    "            \"should\": [\n",
    "                {\n",
    "                    \"match\": {\n",
    "                        \"title\": {\n",
    "                            \"query\": query_text,\n",
    "                            \"boost\": 1.0  # Boost lexical score\n",
    "                        }\n",
    "                    }\n",
    "                },\n",
    "                {\n",
    "                    \"knn\": {\n",
    "                        \"embedding\": {\n",
    "                            \"vector\": q_embedding,\n",
    "                            \"k\": 5,\n",
    "                            \"boost\": 2.0  # Boost semantic score\n",
    "                        }\n",
    "                    }\n",
    "                }\n",
    "            ]\n",
    "        }\n",
    "    }\n",
    "}"
   ]
  },
  {
   "cell_type": "code",
   "execution_count": 33,
   "id": "a693d851-4c97-4d71-9e26-eeba1bcd08da",
   "metadata": {},
   "outputs": [
    {
     "name": "stdout",
     "output_type": "stream",
     "text": [
      "Wireless Charger - Score: 2.8612733\n",
      "Wireless Noise Cancelling Headphones - Score: 2.0828602\n",
      "Bluetooth Speaker - Score: 1.3651588\n",
      "Fitness Smartwatch - Score: 1.2136363\n",
      "Gaming Mouse - Score: 1.1607678\n"
     ]
    }
   ],
   "source": [
    "results = client.search(index=index_name, body=query_body)\n",
    "for hit in results[\"hits\"][\"hits\"]:\n",
    "    print(f\"{hit['_source']['title']} - Score: {hit['_score']}\")"
   ]
  },
  {
   "cell_type": "code",
   "execution_count": 39,
   "id": "73bee41a-5175-4d47-bfc2-ad5813a358e9",
   "metadata": {},
   "outputs": [
    {
     "name": "stdout",
     "output_type": "stream",
     "text": [
      "item_10 - Wireless Charger - Score: 2.8612733\n",
      "item_1 - Wireless Noise Cancelling Headphones - Score: 2.0828602\n",
      "item_2 - Bluetooth Speaker - Score: 1.3651588\n",
      "item_3 - Fitness Smartwatch - Score: 1.2136363\n",
      "item_6 - Gaming Mouse - Score: 1.1607678\n"
     ]
    }
   ],
   "source": [
    "for hit in results[\"hits\"][\"hits\"]:\n",
    "    print(f\"{hit['_source']['item_id']} - {hit['_source']['title']} - Score: {hit['_score']}\")"
   ]
  },
  {
   "cell_type": "code",
   "execution_count": null,
   "id": "192ef5cd-9d87-4eec-9781-4e842367779d",
   "metadata": {},
   "outputs": [],
   "source": []
  }
 ],
 "metadata": {
  "kernelspec": {
   "display_name": "Python 3 (ipykernel)",
   "language": "python",
   "name": "python3"
  },
  "language_info": {
   "codemirror_mode": {
    "name": "ipython",
    "version": 3
   },
   "file_extension": ".py",
   "mimetype": "text/x-python",
   "name": "python",
   "nbconvert_exporter": "python",
   "pygments_lexer": "ipython3",
   "version": "3.10.17"
  }
 },
 "nbformat": 4,
 "nbformat_minor": 5
}
