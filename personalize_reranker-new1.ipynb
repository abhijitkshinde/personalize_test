{
 "cells": [
  {
   "cell_type": "code",
   "execution_count": 31,
   "id": "17cdc983-d95d-4c0d-b5ed-b0eb8898645e",
   "metadata": {},
   "outputs": [],
   "source": [
    "import boto3\n",
    "import json\n",
    "import time\n",
    "import pandas as pd\n",
    "from opensearchpy import OpenSearch\n",
    "from langchain_aws import BedrockEmbeddings, ChatBedrock"
   ]
  },
  {
   "cell_type": "code",
   "execution_count": 32,
   "id": "f02ff561-ea27-4339-8520-049166b056bc",
   "metadata": {},
   "outputs": [],
   "source": [
    "def create_aws_session():\n",
    "    try:\n",
    "        return boto3.Session(\n",
    "            region_name=\"us-east-1\",\n",
    "            aws_access_key_id=\"\",\n",
    "            aws_secret_access_key=\"\"\n",
    "        )\n",
    "    except Exception as e:\n",
    "        print(f\"Error creating AWS session: {str(e)}\")\n",
    "        return None\n",
    "\n",
    "def create_s3_client(session):\n",
    "    try:\n",
    "        if session:\n",
    "            return session.client('s3')\n",
    "        return None\n",
    "    except Exception as e:\n",
    "        print(f\"Error creating S3 client: {str(e)}\")\n",
    "        return None\n",
    "\n",
    "def create_personalize_client(session):\n",
    "    try:\n",
    "        if session:\n",
    "            return session.client('personalize')\n",
    "        return None\n",
    "    except Exception as e:\n",
    "        print(f\"Error creating S3 client: {str(e)}\")\n",
    "        return None"
   ]
  },
  {
   "cell_type": "code",
   "execution_count": 33,
   "id": "b73a0794-61aa-4dfc-b70c-6a85247315ba",
   "metadata": {},
   "outputs": [],
   "source": [
    "# Initialize Bedrock client\n",
    "bedrock_client = boto3.client(\n",
    "    service_name=\"bedrock-runtime\",\n",
    "    region_name=\"us-east-1\",\n",
    "    aws_access_key_id=\"\",\n",
    "    aws_secret_access_key=\"\"\n",
    ")\n",
    "\n",
    "# Initialize models\n",
    "embed_model = BedrockEmbeddings(\n",
    "    client=bedrock_client,\n",
    "    model_id=\"amazon.titan-embed-text-v1\"\n",
    ")"
   ]
  },
  {
   "cell_type": "code",
   "execution_count": 34,
   "id": "c6855b48-9870-418c-ba03-2abb62342509",
   "metadata": {},
   "outputs": [],
   "source": [
    "session = create_aws_session()\n",
    "s3_client = create_s3_client(session)\n",
    "per_client = create_personalize_client(session)"
   ]
  },
  {
   "cell_type": "code",
   "execution_count": 35,
   "id": "a61085cd-6d0f-489f-9a4d-82e0ea436710",
   "metadata": {},
   "outputs": [],
   "source": [
    "# AWS setup\n",
    "region = \"us-east-1\"\n",
    "s3_bucket = \"bucket-for-my-kb-pdf-test\"  # replace if needed\n",
    "personalize = per_client\n",
    "personalize_runtime = boto3.client(\"personalize-runtime\", region_name=region, aws_access_key_id=\"\",\n",
    "    aws_secret_access_key=\"\")\n",
    "s3 = s3_client\n",
    "# Upload helpers\n",
    "def upload_to_s3(filename, bucket, key):\n",
    "    s3.upload_file(Filename=filename, Bucket=bucket, Key=key)\n",
    "    print(f\"Uploaded {filename} to s3://{bucket}/{key}\")"
   ]
  },
  {
   "cell_type": "code",
   "execution_count": 36,
   "id": "c6f13355-b6cc-4637-9e76-6f11ea0a6f74",
   "metadata": {},
   "outputs": [
    {
     "name": "stdout",
     "output_type": "stream",
     "text": [
      "Uploaded interactions_1000.csv to s3://bucket-for-my-kb-pdf-test/interactions.csv\n",
      "Uploaded items_100.csv to s3://bucket-for-my-kb-pdf-test/items.csv\n"
     ]
    }
   ],
   "source": [
    "# Upload to S3\n",
    "upload_to_s3(\"interactions_1000.csv\", s3_bucket, \"interactions.csv\")\n",
    "upload_to_s3(\"items_100.csv\", s3_bucket, \"items.csv\")"
   ]
  },
  {
   "cell_type": "code",
   "execution_count": 37,
   "id": "6fb3fe8c-c131-4e23-b0f7-1f56c966870f",
   "metadata": {},
   "outputs": [
    {
     "name": "stdout",
     "output_type": "stream",
     "text": [
      "Dataset Group status: CREATE PENDING\n",
      "Dataset Group status: CREATE PENDING\n",
      "Dataset Group status: CREATE PENDING\n",
      "Dataset Group status: ACTIVE\n"
     ]
    }
   ],
   "source": [
    "# Create dataset group\n",
    "response = personalize.create_dataset_group(name=\"hybrid-search-dataset-group_new1\")\n",
    "dataset_group_arn = response[\"datasetGroupArn\"]\n",
    "\n",
    "# Wait for dataset group to be ACTIVE\n",
    "def wait_for_active(resource_arn, describe_fn, name):\n",
    "    while True:\n",
    "        # Modified this line to use keyword argument\n",
    "        status = describe_fn(datasetGroupArn=resource_arn)[\"datasetGroup\"][\"status\"]\n",
    "        print(f\"{name} status: {status}\")\n",
    "        if status == \"ACTIVE\":\n",
    "            break\n",
    "        time.sleep(10)\n",
    "\n",
    "# Call the wait function\n",
    "wait_for_active(dataset_group_arn, personalize.describe_dataset_group, \"Dataset Group\")"
   ]
  },
  {
   "cell_type": "code",
   "execution_count": 38,
   "id": "4703eb89-9069-4eb5-a074-21c52163f0e2",
   "metadata": {},
   "outputs": [
    {
     "data": {
      "text/plain": [
       "'arn:aws:personalize:us-east-1:233736836855:dataset-group/hybrid-search-dataset-group_new1'"
      ]
     },
     "execution_count": 38,
     "metadata": {},
     "output_type": "execute_result"
    }
   ],
   "source": [
    "dataset_group_arn"
   ]
  },
  {
   "cell_type": "code",
   "execution_count": 40,
   "id": "cbf5dde3-37a0-4f3e-87d2-608d88e31df9",
   "metadata": {},
   "outputs": [],
   "source": [
    "interaction_schema = {\n",
    "    \"type\": \"record\",\n",
    "    \"name\": \"Interactions\",\n",
    "    \"namespace\": \"com.amazonaws.personalize.schema\",\n",
    "    \"fields\": [\n",
    "        {\"name\": \"user_id\", \"type\": \"string\"},\n",
    "        {\"name\": \"item_id\", \"type\": \"string\"},\n",
    "        {\"name\": \"event_type\", \"type\": \"string\"},\n",
    "        {\"name\": \"timestamp\", \"type\": \"long\"}\n",
    "    ],\n",
    "    \"version\": \"1.0\"\n",
    "}\n",
    "schema_arn = personalize.create_schema(\n",
    "    name=\"interactions-schema1\",\n",
    "    schema=json.dumps(interaction_schema)\n",
    ")[\"schemaArn\"]\n",
    "interactions_dataset_arn = personalize.create_dataset(\n",
    "    name=\"interactions-dataset1\",\n",
    "    datasetType=\"INTERACTIONS\",\n",
    "    datasetGroupArn=dataset_group_arn,\n",
    "    schemaArn=schema_arn\n",
    ")[\"datasetArn\"]"
   ]
  },
  {
   "cell_type": "code",
   "execution_count": 42,
   "id": "6234caf1-6500-4ddf-af68-c869bfc20c26",
   "metadata": {},
   "outputs": [
    {
     "name": "stdout",
     "output_type": "stream",
     "text": [
      "Import Job status: CREATE PENDING\n",
      "Import Job status: CREATE IN_PROGRESS\n",
      "Import Job status: CREATE IN_PROGRESS\n",
      "Import Job status: CREATE IN_PROGRESS\n",
      "Import Job status: CREATE IN_PROGRESS\n",
      "Import Job status: CREATE IN_PROGRESS\n",
      "Import Job status: ACTIVE\n",
      "Import job completed successfully\n"
     ]
    }
   ],
   "source": [
    "iam_role = \"arn:aws:iam::233736836855:role/PersonalizeS3Access\"  # your IAM role ARN\n",
    "\n",
    "# Create dataset import job\n",
    "import_job_arn = personalize.create_dataset_import_job(\n",
    "    jobName=\"interactions-import-job_new1\",\n",
    "    datasetArn=interactions_dataset_arn,\n",
    "    dataSource={\"dataLocation\": \"s3://bucket-for-my-kb-pdf-test/interactions.csv\"},\n",
    "    roleArn=iam_role\n",
    ")[\"datasetImportJobArn\"]\n",
    "\n",
    "# Wait for import job to complete\n",
    "def wait_for_import_job(import_job_arn, max_time=3600):  # 1 hour timeout\n",
    "    start_time = time.time()\n",
    "    \n",
    "    while True:\n",
    "        response = personalize.describe_dataset_import_job(datasetImportJobArn=import_job_arn)\n",
    "        status = response[\"datasetImportJob\"][\"status\"]\n",
    "        print(f\"Import Job status: {status}\")\n",
    "        \n",
    "        if status == \"ACTIVE\":\n",
    "            print(\"Import job completed successfully\")\n",
    "            break\n",
    "        elif status == \"CREATE FAILED\":\n",
    "            raise Exception(\"Import job failed\")\n",
    "            \n",
    "        if time.time() - start_time > max_time:\n",
    "            raise TimeoutError(\"Import job timed out\")\n",
    "            \n",
    "        time.sleep(30)  # Wait for 30 seconds before checking again\n",
    "\n",
    "try:\n",
    "    wait_for_import_job(import_job_arn)\n",
    "except Exception as e:\n",
    "    print(f\"Error during import job: {str(e)}\")"
   ]
  },
  {
   "cell_type": "code",
   "execution_count": 45,
   "id": "de06a98b-45f1-4c11-9ecd-fab866bd3fce",
   "metadata": {},
   "outputs": [
    {
     "name": "stdout",
     "output_type": "stream",
     "text": [
      "Creating solution version - this may take a while...\n",
      "Solution Version status: CREATE PENDING\n",
      "Solution Version status: CREATE IN_PROGRESS\n",
      "Solution Version status: CREATE IN_PROGRESS\n",
      "Solution Version status: CREATE IN_PROGRESS\n",
      "Solution Version status: CREATE IN_PROGRESS\n",
      "Solution Version status: CREATE IN_PROGRESS\n",
      "Solution Version status: CREATE IN_PROGRESS\n",
      "Solution Version status: CREATE IN_PROGRESS\n",
      "Solution Version status: CREATE IN_PROGRESS\n",
      "Solution Version status: CREATE IN_PROGRESS\n",
      "Solution Version status: CREATE IN_PROGRESS\n",
      "Solution Version status: CREATE IN_PROGRESS\n",
      "Solution Version status: CREATE IN_PROGRESS\n",
      "Solution Version status: CREATE IN_PROGRESS\n",
      "Solution Version status: CREATE IN_PROGRESS\n",
      "Solution Version status: ACTIVE\n",
      "Solution version creation completed successfully\n",
      "\n",
      "Training Metrics:\n",
      "{'coverage': 0.3069, 'mean_reciprocal_rank_at_25': 0.0241, 'normalized_discounted_cumulative_gain_at_10': 0.0, 'normalized_discounted_cumulative_gain_at_25': 0.1029, 'normalized_discounted_cumulative_gain_at_5': 0.0, 'precision_at_10': 0.0, 'precision_at_25': 0.0171, 'precision_at_5': 0.0}\n"
     ]
    }
   ],
   "source": [
    "# Train the model\n",
    "solution_arn = personalize.create_solution(\n",
    "    name=\"ranking-solution-new1\",\n",
    "    datasetGroupArn=dataset_group_arn,\n",
    "    recipeArn=\"arn:aws:personalize:::recipe/aws-personalized-ranking\"\n",
    ")[\"solutionArn\"]\n",
    "\n",
    "# Create solution version\n",
    "solution_version_arn = personalize.create_solution_version(\n",
    "    solutionArn=solution_arn\n",
    ")[\"solutionVersionArn\"]\n",
    "\n",
    "# Wait for solution version to be active\n",
    "def wait_for_solution_version(solution_version_arn, max_time=3600):  # 1 hour timeout\n",
    "    start_time = time.time()\n",
    "    \n",
    "    while True:\n",
    "        response = personalize.describe_solution_version(\n",
    "            solutionVersionArn=solution_version_arn\n",
    "        )\n",
    "        status = response[\"solutionVersion\"][\"status\"]\n",
    "        print(f\"Solution Version status: {status}\")\n",
    "        \n",
    "        if status == \"ACTIVE\":\n",
    "            print(\"Solution version creation completed successfully\")\n",
    "            break\n",
    "        elif status == \"CREATE FAILED\":\n",
    "            raise Exception(f\"Solution version creation failed: {response['solutionVersion'].get('failureReason', 'Unknown reason')}\")\n",
    "            \n",
    "        if time.time() - start_time > max_time:\n",
    "            raise TimeoutError(\"Solution version creation timed out\")\n",
    "            \n",
    "        time.sleep(60)  # Check every minute\n",
    "\n",
    "try:\n",
    "    print(\"Creating solution version - this may take a while...\")\n",
    "    wait_for_solution_version(solution_version_arn)\n",
    "    \n",
    "    # Get metrics after training is complete\n",
    "    metrics_response = personalize.get_solution_metrics(\n",
    "        solutionVersionArn=solution_version_arn\n",
    "    )\n",
    "    print(\"\\nTraining Metrics:\")\n",
    "    print(metrics_response[\"metrics\"])\n",
    "    \n",
    "except Exception as e:\n",
    "    print(f\"Error during solution version creation: {str(e)}\")"
   ]
  },
  {
   "cell_type": "code",
   "execution_count": 47,
   "id": "714a260b-1a14-4d68-97f7-32d65cdefecf",
   "metadata": {},
   "outputs": [
    {
     "name": "stdout",
     "output_type": "stream",
     "text": [
      "Creating campaign...\n",
      "Campaign status: CREATE PENDING\n",
      "Campaign status: CREATE IN_PROGRESS\n",
      "Campaign status: CREATE IN_PROGRESS\n",
      "Campaign status: CREATE IN_PROGRESS\n",
      "Campaign status: CREATE IN_PROGRESS\n",
      "Campaign status: CREATE IN_PROGRESS\n",
      "Campaign status: CREATE IN_PROGRESS\n",
      "Campaign status: CREATE IN_PROGRESS\n",
      "Campaign status: CREATE IN_PROGRESS\n",
      "Campaign status: CREATE IN_PROGRESS\n",
      "Campaign status: CREATE IN_PROGRESS\n",
      "Campaign status: CREATE IN_PROGRESS\n",
      "Campaign status: CREATE IN_PROGRESS\n",
      "Campaign status: CREATE IN_PROGRESS\n",
      "Campaign status: CREATE IN_PROGRESS\n",
      "Campaign status: CREATE IN_PROGRESS\n",
      "Campaign status: CREATE IN_PROGRESS\n",
      "Campaign status: CREATE IN_PROGRESS\n",
      "Campaign status: CREATE IN_PROGRESS\n",
      "Campaign status: CREATE IN_PROGRESS\n",
      "Campaign status: ACTIVE\n",
      "Campaign creation completed successfully\n",
      "\n",
      "Campaign Details:\n",
      "Name: ranking-campaign-new1\n",
      "ARN: arn:aws:personalize:us-east-1:233736836855:campaign/ranking-campaign-new1\n",
      "Status: ACTIVE\n"
     ]
    }
   ],
   "source": [
    "# ============================================\n",
    "# :rocket: 7. CREATE CAMPAIGN\n",
    "# ============================================\n",
    "# Create campaign\n",
    "campaign_arn = personalize.create_campaign(\n",
    "    name=\"ranking-campaign-new1\",\n",
    "    solutionVersionArn=solution_version_arn,\n",
    "    minProvisionedTPS=1\n",
    ")[\"campaignArn\"]\n",
    "\n",
    "# Wait for campaign to be active\n",
    "def wait_for_campaign(campaign_arn, max_time=3600):  # 1 hour timeout\n",
    "    start_time = time.time()\n",
    "    \n",
    "    while True:\n",
    "        response = personalize.describe_campaign(\n",
    "            campaignArn=campaign_arn\n",
    "        )\n",
    "        status = response[\"campaign\"][\"status\"]\n",
    "        print(f\"Campaign status: {status}\")\n",
    "        \n",
    "        if status == \"ACTIVE\":\n",
    "            print(\"Campaign creation completed successfully\")\n",
    "            break\n",
    "        elif status == \"CREATE FAILED\":\n",
    "            raise Exception(f\"Campaign creation failed: {response['campaign'].get('failureReason', 'Unknown reason')}\")\n",
    "            \n",
    "        if time.time() - start_time > max_time:\n",
    "            raise TimeoutError(\"Campaign creation timed out\")\n",
    "            \n",
    "        time.sleep(30)  # Check every 30 seconds\n",
    "\n",
    "try:\n",
    "    print(\"Creating campaign...\")\n",
    "    wait_for_campaign(campaign_arn)\n",
    "    \n",
    "    # Get campaign details after creation is complete\n",
    "    campaign_response = personalize.describe_campaign(\n",
    "        campaignArn=campaign_arn\n",
    "    )\n",
    "    print(\"\\nCampaign Details:\")\n",
    "    print(f\"Name: {campaign_response['campaign']['name']}\")\n",
    "    print(f\"ARN: {campaign_response['campaign']['campaignArn']}\")\n",
    "    print(f\"Status: {campaign_response['campaign']['status']}\")\n",
    "    \n",
    "except Exception as e:\n",
    "    print(f\"Error during campaign creation: {str(e)}\")"
   ]
  },
  {
   "cell_type": "code",
   "execution_count": null,
   "id": "0b848503-995a-4233-a8ce-df2142337746",
   "metadata": {},
   "outputs": [],
   "source": [
    "# Sample hybrid results from OpenSearch (simulated)\n",
    "hybrid_items = [\"item_2\", \"item_4\", \"item_1\", \"item_5\"]\n",
    "user_id = \"user_1\"\n",
    "# Re-rank with personalize\n",
    "response = personalize_runtime.get_personalized_ranking(\n",
    "    campaignArn=campaign_arn,\n",
    "    userId=user_id,\n",
    "    inputList=hybrid_items\n",
    ")\n",
    "ranked_items = [item[\"itemId\"] for item in response[\"personalizedRanking\"]]\n",
    "print(\":repeat: Re-ranked personalized results:\", ranked_items)"
   ]
  }
 ],
 "metadata": {
  "kernelspec": {
   "display_name": "Python 3 (ipykernel)",
   "language": "python",
   "name": "python3"
  },
  "language_info": {
   "codemirror_mode": {
    "name": "ipython",
    "version": 3
   },
   "file_extension": ".py",
   "mimetype": "text/x-python",
   "name": "python",
   "nbconvert_exporter": "python",
   "pygments_lexer": "ipython3",
   "version": "3.10.17"
  }
 },
 "nbformat": 4,
 "nbformat_minor": 5
}
